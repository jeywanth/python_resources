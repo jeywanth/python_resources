{
 "cells": [
  {
   "cell_type": "markdown",
   "metadata": {},
   "source": [
    "### Regular Expression Practice "
   ]
  },
  {
   "cell_type": "markdown",
   "metadata": {},
   "source": [
    "#### Import the random email data file"
   ]
  },
  {
   "cell_type": "code",
   "execution_count": 1,
   "metadata": {},
   "outputs": [],
   "source": [
    "import re\n",
    "import pandas as pd\n",
    "df=pd.read_csv('Random_Email_Dataset.csv') ### Loading dataset"
   ]
  },
  {
   "cell_type": "markdown",
   "metadata": {},
   "source": [
    "#### Display the Email ids"
   ]
  },
  {
   "cell_type": "code",
   "execution_count": 2,
   "metadata": {
    "scrolled": true
   },
   "outputs": [
    {
     "data": {
      "text/html": [
       "<div>\n",
       "<style scoped>\n",
       "    .dataframe tbody tr th:only-of-type {\n",
       "        vertical-align: middle;\n",
       "    }\n",
       "\n",
       "    .dataframe tbody tr th {\n",
       "        vertical-align: top;\n",
       "    }\n",
       "\n",
       "    .dataframe thead th {\n",
       "        text-align: right;\n",
       "    }\n",
       "</style>\n",
       "<table border=\"1\" class=\"dataframe\">\n",
       "  <thead>\n",
       "    <tr style=\"text-align: right;\">\n",
       "      <th></th>\n",
       "      <th>Id</th>\n",
       "      <th>Email Address</th>\n",
       "    </tr>\n",
       "  </thead>\n",
       "  <tbody>\n",
       "    <tr>\n",
       "      <th>0</th>\n",
       "      <td>138</td>\n",
       "      <td>mnmwuhasdwqweqw</td>\n",
       "    </tr>\n",
       "    <tr>\n",
       "      <th>1</th>\n",
       "      <td>141</td>\n",
       "      <td>cynvhupf@gamail.com</td>\n",
       "    </tr>\n",
       "    <tr>\n",
       "      <th>2</th>\n",
       "      <td>155</td>\n",
       "      <td>doznfpxy@gamail.com</td>\n",
       "    </tr>\n",
       "    <tr>\n",
       "      <th>3</th>\n",
       "      <td>156</td>\n",
       "      <td>ufpgolgelastqxaoi</td>\n",
       "    </tr>\n",
       "    <tr>\n",
       "      <th>4</th>\n",
       "      <td>160</td>\n",
       "      <td>rdvafvkummnuj@yahooo.com</td>\n",
       "    </tr>\n",
       "  </tbody>\n",
       "</table>\n",
       "</div>"
      ],
      "text/plain": [
       "    Id             Email Address\n",
       "0  138           mnmwuhasdwqweqw\n",
       "1  141       cynvhupf@gamail.com\n",
       "2  155       doznfpxy@gamail.com\n",
       "3  156         ufpgolgelastqxaoi\n",
       "4  160  rdvafvkummnuj@yahooo.com"
      ]
     },
     "execution_count": 2,
     "metadata": {},
     "output_type": "execute_result"
    }
   ],
   "source": [
    "df.head() ### Printing top 5 records of the dataset"
   ]
  },
  {
   "cell_type": "code",
   "execution_count": 3,
   "metadata": {},
   "outputs": [
    {
     "data": {
      "text/plain": [
       "(170, 2)"
      ]
     },
     "execution_count": 3,
     "metadata": {},
     "output_type": "execute_result"
    }
   ],
   "source": [
    "df.shape   ### Printing the shape of the dataset"
   ]
  },
  {
   "cell_type": "code",
   "execution_count": 4,
   "metadata": {},
   "outputs": [
    {
     "name": "stdout",
     "output_type": "stream",
     "text": [
      "mnmwuhasdwqweqw||cynvhupf@gamail.com||doznfpxy@gamail.com||ufpgolgelastqxaoi||rdvafvkummnuj@yahooo.com||rvkwwlntnchl@yahooo.com||hrgsyomuf@gamail.com||spiltjsn@yahooo.com||mtrhitjlqw@gamail.com||oerdomqxcb@gamail.com||ojsasdweeewq||jasdwweeeq||gilmivlrwnfbss@yahooo.com||anuaackiokhac@yahooo.com||roclrzpyjf@gamail.com||ahsjitbw@gamail.com||iupwkgasdweqeew||natzhmxfx@gamail.com||ungxqtzk@gamail.com||fbdvsxmz@gamail.com||dfhjmsfwzo@gamail.com||fctkqhbr@yahooo.com||rmykhpek@gamail.com||bkrfsjbxa@gamail.com||rvekpvpupelcp||cetxcilthi@gamail.com||fdwtktzb@gamail.com||cigudlhqgo@yahooo.com||gasdeqeqwe||yhgsbbuwi@gamail.com||axnnkyzfw@gamail.com||mfnuidsdkv@gamail.com||kmqukhckbhk@yahooo.com||bwfasdeqwqww||sidhmibmc@gamail.com||hajdffrjjt@gamail.com||xpkgzqlonx@gamail.com||vfbudpenpu@gamail.com||larmsherg@gamail.com||chfbukyfq@gamail.com||riaotsnqb@yahooo.com||ufhkwbpawf@gamail.com||immznovrvt@gamail.com||uuvjkmvyz@gamail.com||ikxzclcijp@gamail.com||coxkbauib@gamail.com||epuaniefyc@gamail.com||udqxrdnm@yahooo.com||nuguxfaxahhv||yjsrgtbkrc@gamail.com||ajoxctasdwweeqe||giiempwyyb@gamail.com||qdvwzbhkei@gamail.com||okkasdewqeew||okryynvaa@gamail.com||vcywoyuf@gamail.com||qluwgvwiahgr||tbraplsn@gamail.com||lrxxvidjc@gamail.com||jbgpfqchyr@gamail.com||hnublhpdl@gamail.com||crrflbgh@gamail.com||xxhpreasdqeqwww||cqdwbnfkpd@yahooo.com||brkvboow@gamail.com||kvucccrmersslpxove||szpxrjagut@gamail.com||awgzgumb@gamail.com||ckkvrefqd@yahooo.com||cseccgfneb@gamail.com||sruptmen@gamail.com||yvhhukjn@gamail.com||elnhgwcbyv@gamail.com||kjnjlcxwti@yahooo.com||sviqhylb@gamail.com||jqmadasdqwqwww||yadbsvwvg@gamail.com||aaorvyysxf@gamail.com||xjmgparcc@gamail.com||ywcqscai@gamail.com||oxoqdxpgn@yahooo.com||ehzuneriqo@gamail.com||pqwmeexn@gamail.com||xukonboq@gamail.com||dasdwqqwww||rbaphprlucgmjux||amtwzsir@gamail.com||aphoiajgtwxk@yahooo.com||umxsdasdqwqeqq||udfdqqwr@gamail.com||kgbxxhcg@gamail.com||rvymiywr@gamail.com||gucwwzsvna@gamail.com||fetsvhueis@yahooo.com||vyhryvdws@gamail.com||xduplvccf@gamail.com||zaulskbal@gamail.com||zzoincwqj@gamail.com||gjltjnzveh@gamail.com||ncxasdeqwwwe||erbddjgrbovpts@yahooo.com||ctkchmorojwug||dmwzaxraky@gamail.com||lcprqplxuvmh||pkgiyzzek@gamail.com||bettkasdqwwqew||xioqnlwvexjfhwi||axxcclugn@gamail.com||axjwgwrebraowmxkq||pngkfuyi@gamail.com||jwgpyftju@gamail.com||endklheyf@gamail.com||xaygsobmj@gamail.com||hvadllcan@gamail.com||hasdwqeqwe||kjwhthatehggl||sjchuisi@gamail.com||quomwvasdqwewwe||mavxmlrofooa@yahooo.com||essrtfudqedpca||knyxtuhiky@gamail.com||txjtmqrpcucjq@yahooo.com||cvayqkmvp@gamail.com||wsekosltxcflae@yahooo.com||wlkshtyo@gamail.com||ciaswdupft@gamail.com||txbmspprkbwintgh||omgvtomjuujltvimfxqq||easgapxwumww@yahooo.com||sxflxpnlbpmkpxik||ksjaxtoouvadaehfooir||dtphkuwur@gamail.com||rhmasdqeeqwq||rfcgbxvpa@gamail.com||dwqehbqgmhsrqv@yahooo.com||bvvgtffhqenutfqkt||jxdwlnmo@gamail.com||zkpccwuyxg@gamail.com||scrissrlgofe@yahooo.com||dcvqqlgeds@gamail.com||ztvuqejs@gamail.com||vycrqymksj@gamail.com||umivtwugly@gamail.com||dfzlhbnqgn@gamail.com||jzftqqmsgg@gamail.com||pdinqfvjkmtoutpe||wlugzyqlho@gamail.com||ubacaqudlmkkeiivjhrh||gqjiromffb@gamail.com||tingcagmlqe@yahooo.com||dkhofbftkpelo@yahooo.com||lzsfpjtao@gamail.com||zebnwcxgyr@gamail.com||bexgeucdsh@yahooo.com||gxsasdeqqeqw||muxckttvbpl@yahooo.com||ewjrfvifdmcj@yahooo.com||pkasdeweqew||bjbkdhrbpru@yahooo.com||yjxvtmpu@gamail.com||qplgeulsca@gamail.com||gqlksquxy@gamail.com||mryphjpzmy@gamail.com||zibibnujl@gamail.com||iowkasdweqwqw||ptvqlffe@gamail.com||lzcrsiuo@gamail.com||iydthkxz@gamail.com||mpmwehcnjjntjvfnl||mphibnuxgtr@yahooo.com\n"
     ]
    }
   ],
   "source": [
    "#### Formatting the dataset into string type for pattern seaching\n",
    "x = df['Email Address']\n",
    "print('||'.join(x))"
   ]
  },
  {
   "cell_type": "markdown",
   "metadata": {},
   "source": [
    "#### FInd the number of gamail email Ids (ending with @gamail.com)"
   ]
  },
  {
   "cell_type": "code",
   "execution_count": 5,
   "metadata": {},
   "outputs": [
    {
     "name": "stdout",
     "output_type": "stream",
     "text": [
      "Number of gamail email ids: 100\n"
     ]
    }
   ],
   "source": [
    "pattern=re.compile(r'[a-zA-Z0-9]*@gamail.com')\n",
    "#pattern = re.compile(r'[a-zA-Z0-9_]@gamail\\.com\\b')\n",
    "matches=pattern.finditer(' '.join(x))\n",
    "counter = 0\n",
    "for mat in matches:\n",
    "    counter = counter+1\n",
    "print('Number of gamail email ids:', counter)"
   ]
  },
  {
   "cell_type": "markdown",
   "metadata": {},
   "source": [
    "#### Find the number of yahooo email Ids (ending with @yahooo.com)"
   ]
  },
  {
   "cell_type": "code",
   "execution_count": 6,
   "metadata": {},
   "outputs": [
    {
     "name": "stdout",
     "output_type": "stream",
     "text": [
      "Number of yahooo email ids: 30\n"
     ]
    }
   ],
   "source": [
    "pattern=re.compile(r'[a-zA-Z0-9]*@yahooo.com')\n",
    "matches=pattern.finditer(' '.join(x))\n",
    "counter=0\n",
    "for mat in matches:\n",
    "    counter+=1\n",
    "print('Number of yahooo email ids:', counter)"
   ]
  },
  {
   "cell_type": "markdown",
   "metadata": {},
   "source": [
    "#### Find the number of entries that are not email ids (consider the entries that do not have a @ and a .com/.in/.org in them)"
   ]
  },
  {
   "cell_type": "code",
   "execution_count": 7,
   "metadata": {},
   "outputs": [
    {
     "name": "stdout",
     "output_type": "stream",
     "text": [
      "Number of email ids: 130\n",
      "Number of Non email ids:  40\n"
     ]
    }
   ],
   "source": [
    "pattern=re.compile(r'[a-zA-Z0-9]*@[a-z]*[.(com|in|org)]')\n",
    "matches=pattern.finditer(' '.join(x))\n",
    "counter=0\n",
    "for mat in matches:\n",
    "    counter+=1\n",
    "print('Number of email ids:', counter)\n",
    "print('Number of Non email ids: ',df.shape[0]-counter)"
   ]
  },
  {
   "cell_type": "markdown",
   "metadata": {},
   "source": [
    "#### find the total entries that have the pattern 'asd' in them"
   ]
  },
  {
   "cell_type": "code",
   "execution_count": 8,
   "metadata": {},
   "outputs": [
    {
     "name": "stdout",
     "output_type": "stream",
     "text": [
      "Number of \"asd\" patter count is : 20\n"
     ]
    }
   ],
   "source": [
    "pattern=re.compile(r'(asd)')\n",
    "matches=pattern.finditer(' '.join(x))\n",
    "counter=0\n",
    "for mat in matches:\n",
    "    counter+=1\n",
    "print('Number of \"asd\" patter count is :', counter)"
   ]
  },
  {
   "cell_type": "markdown",
   "metadata": {},
   "source": [
    "#### find the number of email Ids that start with k"
   ]
  },
  {
   "cell_type": "code",
   "execution_count": 9,
   "metadata": {},
   "outputs": [
    {
     "name": "stdout",
     "output_type": "stream",
     "text": [
      "Number of email ids starts with \"k\" is : 43\n"
     ]
    }
   ],
   "source": [
    "pattern=re.compile(r'(k|K)\\w+@[a-z]+\\.[a-z]+')\n",
    "matches=pattern.finditer(' '.join(x))\n",
    "counter=0\n",
    "for mat in matches:\n",
    "    counter+=1\n",
    "print('Number of email ids starts with \"k\" is :', counter)"
   ]
  },
  {
   "cell_type": "markdown",
   "metadata": {},
   "source": [
    "#### Properities of regular expression"
   ]
  },
  {
   "cell_type": "code",
   "execution_count": 10,
   "metadata": {},
   "outputs": [
    {
     "data": {
      "text/plain": [
       "0                      A\n",
       "1                  ASCII\n",
       "2                  DEBUG\n",
       "3                 DOTALL\n",
       "4                      I\n",
       "5             IGNORECASE\n",
       "6                      L\n",
       "7                 LOCALE\n",
       "8                      M\n",
       "9              MULTILINE\n",
       "10                 Match\n",
       "11               Pattern\n",
       "12             RegexFlag\n",
       "13                     S\n",
       "14               Scanner\n",
       "15                     T\n",
       "16              TEMPLATE\n",
       "17                     U\n",
       "18               UNICODE\n",
       "19               VERBOSE\n",
       "20                     X\n",
       "21             _MAXCACHE\n",
       "22               __all__\n",
       "23          __builtins__\n",
       "24            __cached__\n",
       "25               __doc__\n",
       "26              __file__\n",
       "27            __loader__\n",
       "28              __name__\n",
       "29           __package__\n",
       "30              __spec__\n",
       "31           __version__\n",
       "32                _cache\n",
       "33              _compile\n",
       "34         _compile_repl\n",
       "35               _expand\n",
       "36               _locale\n",
       "37               _pickle\n",
       "38    _special_chars_map\n",
       "39                 _subx\n",
       "40               compile\n",
       "41               copyreg\n",
       "42                  enum\n",
       "43                 error\n",
       "44                escape\n",
       "45               findall\n",
       "46              finditer\n",
       "47             fullmatch\n",
       "48             functools\n",
       "49                 match\n",
       "50                 purge\n",
       "51                search\n",
       "52                 split\n",
       "53           sre_compile\n",
       "54             sre_parse\n",
       "55                   sub\n",
       "56                  subn\n",
       "57              template\n",
       "dtype: object"
      ]
     },
     "execution_count": 10,
     "metadata": {},
     "output_type": "execute_result"
    }
   ],
   "source": [
    "pd.Series(dir(re))"
   ]
  },
  {
   "cell_type": "markdown",
   "metadata": {},
   "source": [
    "#### Regex program to detect the valid format - source (hackerRank)"
   ]
  },
  {
   "cell_type": "code",
   "execution_count": 11,
   "metadata": {},
   "outputs": [
    {
     "name": "stdout",
     "output_type": "stream",
     "text": [
      "VALID\n",
      "VALID\n",
      "VALID\n",
      "VALID\n",
      "VALID\n",
      "INVALID\n",
      "VALID\n",
      "INVALID\n",
      "VALID\n",
      "VALID\n",
      "VALID\n",
      "INVALID\n",
      "INVALID\n",
      "VALID\n",
      "INVALID\n",
      "INVALID\n",
      "VALID\n",
      "INVALID\n",
      "VALID\n",
      "VALID\n",
      "INVALID\n",
      "INVALID\n",
      "VALID\n",
      "VALID\n",
      "INVALID\n",
      "VALID\n",
      "VALID\n",
      "INVALID\n",
      "VALID\n",
      "VALID\n",
      "VALID\n",
      "INVALID\n",
      "INVALID\n",
      "VALID\n",
      "VALID\n"
     ]
    }
   ],
   "source": [
    "import re\n",
    "txt='''66\n",
    "94725 JAVASCRIPT\n",
    "80301 BASH\n",
    "53697 CLISP\n",
    "59622 LUA\n",
    "84627 C\n",
    "10337 LS\n",
    "98017 CSHARP\n",
    "99895 I\n",
    "10800 JAVA\n",
    "92602 SBCL\n",
    "61731 SCALA\n",
    "37957 MZTOCAV\n",
    "93989 KBQXYVQ\n",
    "86959 PYTHON\n",
    "43619 VFLELL\n",
    "41923 ERRLHM\n",
    "94730 CPP\n",
    "58558 IIE\n",
    "57485 PHP\n",
    "97388 JAVA\n",
    "72692 KR\n",
    "43433 SSRXOLYEV\n",
    "17536 CLISP\n",
    "25201 CLISP\n",
    "90043 QJYJUT\n",
    "80115 SBCL\n",
    "95516 SCALA\n",
    "69585 MCBNBBW\n",
    "38479 LUA\n",
    "50296 PERL\n",
    "22562 RUBY\n",
    "86123 PEQ\n",
    "49313 TIXJDURGUM\n",
    "86665 HASKELL\n",
    "68141 C'''\n",
    "inp=[]\n",
    "for i in txt.splitlines():\n",
    "    inp.append(i)\n",
    "for i in range(len(inp)):\n",
    "    if i !=0:\n",
    "        Patobj=re.compile(r'^[\\d]+[\\s](C|CPP|JAVA|PYTHON|PERL|PHP|RUBY|CSHARP|HASKELL|CLOJURE|BASH|SCALA|ERLANG|CLISP|LUA|BRAINFUCK|JAVASCRIPT|GO|D|OCAML|R|PASCAL|SBCL|DART|GROOVY|OBJECTIVEC)\\b')\n",
    "        obj=Patobj.search(inp[i])\n",
    "        #print(inp[i],'  ',obj)\n",
    "        if obj:\n",
    "            print('VALID')\n",
    "        else:\n",
    "            print('INVALID') "
   ]
  },
  {
   "cell_type": "markdown",
   "metadata": {},
   "source": [
    "#### Code snippet to find the coding language based on syntax"
   ]
  },
  {
   "cell_type": "code",
   "execution_count": 12,
   "metadata": {},
   "outputs": [
    {
     "name": "stdout",
     "output_type": "stream",
     "text": [
      "print \n",
      "Python\n"
     ]
    }
   ],
   "source": [
    "import re\n",
    "txt='''# let us create a test string\n",
    "\n",
    "\n",
    "testString1 = \"Hello World!\"\n",
    "print \"Original String: \"+ testString1\n",
    "# Print this string in lower case\n",
    "\n",
    "# Converting a string to lower case\n",
    "\n",
    "print \"Converting to LowerCase\"\n",
    "print testString1.lower()\n",
    "\n",
    "# Converting a string to upper case\n",
    "\n",
    "print \"Converting to Upper Case\"\n",
    "print testString1.upper()\n",
    "\n",
    "# Capitalizing a string\n",
    "\n",
    "# Only the first letter in the string will be capitalized{-truncated-}'''\n",
    "Pattern=re.compile(r'(java|#include|else:|print )')\n",
    "Obj=Pattern.finditer(txt)\n",
    "for obj in Obj: \n",
    "    print(obj.group())\n",
    "    if obj.group()=='java':\n",
    "        print('Java')\n",
    "        break\n",
    "    if obj.group()=='#include':\n",
    "        print('C')\n",
    "        break\n",
    "    if obj.group()== 'else:' or 'print ':\n",
    "        print('Python')\n",
    "        break"
   ]
  }
 ],
 "metadata": {
  "kernelspec": {
   "display_name": "Python 3",
   "language": "python",
   "name": "python3"
  },
  "language_info": {
   "codemirror_mode": {
    "name": "ipython",
    "version": 3
   },
   "file_extension": ".py",
   "mimetype": "text/x-python",
   "name": "python",
   "nbconvert_exporter": "python",
   "pygments_lexer": "ipython3",
   "version": "3.7.6"
  }
 },
 "nbformat": 4,
 "nbformat_minor": 2
}
